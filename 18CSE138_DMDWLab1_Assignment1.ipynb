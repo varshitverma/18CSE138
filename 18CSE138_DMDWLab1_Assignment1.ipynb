{
  "nbformat": 4,
  "nbformat_minor": 0,
  "metadata": {
    "colab": {
      "name": "18CSE138-DMDWLab1-Assignment1.ipynb",
      "provenance": [],
      "authorship_tag": "ABX9TyN9lLuaglwYOjE7ZVn9qr9o",
      "include_colab_link": true
    },
    "kernelspec": {
      "name": "python3",
      "display_name": "Python 3"
    }
  },
  "cells": [
    {
      "cell_type": "markdown",
      "metadata": {
        "id": "view-in-github",
        "colab_type": "text"
      },
      "source": [
        "<a href=\"https://colab.research.google.com/github/varshitverma/18CSE138/blob/main/18CSE138_DMDWLab1_Assignment1.ipynb\" target=\"_parent\"><img src=\"https://colab.research.google.com/assets/colab-badge.svg\" alt=\"Open In Colab\"/></a>"
      ]
    },
    {
      "cell_type": "markdown",
      "metadata": {
        "id": "7RVOsuRg6un9"
      },
      "source": [
        "**Q1. Write a python code for finding mean, median and mode.**"
      ]
    },
    {
      "cell_type": "code",
      "metadata": {
        "id": "pdChX5yf4OFk"
      },
      "source": [
        "import numpy\n",
        "from scipy import stats"
      ],
      "execution_count": 42,
      "outputs": []
    },
    {
      "cell_type": "code",
      "metadata": {
        "id": "6mr4ul8w5oZM"
      },
      "source": [
        "age= [19,46,67,38,11,46,13,57,44,78,37,55,36]"
      ],
      "execution_count": 43,
      "outputs": []
    },
    {
      "cell_type": "code",
      "metadata": {
        "id": "Hmvn0tZ253zI"
      },
      "source": [
        "x = numpy.mean(age)"
      ],
      "execution_count": 44,
      "outputs": []
    },
    {
      "cell_type": "code",
      "metadata": {
        "id": "lS_VGYwk5_CH"
      },
      "source": [
        "y = numpy.median(age)"
      ],
      "execution_count": 45,
      "outputs": []
    },
    {
      "cell_type": "code",
      "metadata": {
        "id": "0GLa52RE6-R4"
      },
      "source": [
        "z = stats.mode(age)"
      ],
      "execution_count": 46,
      "outputs": []
    },
    {
      "cell_type": "code",
      "metadata": {
        "id": "98oAMqSF7qY2",
        "colab": {
          "base_uri": "https://localhost:8080/"
        },
        "outputId": "11eddb69-b719-4918-b67c-0e4a71b92019"
      },
      "source": [
        "print('Mean = ',x)"
      ],
      "execution_count": 47,
      "outputs": [
        {
          "output_type": "stream",
          "text": [
            "Mean =  42.07692307692308\n"
          ],
          "name": "stdout"
        }
      ]
    },
    {
      "cell_type": "code",
      "metadata": {
        "id": "YJjm3kGY7qh4",
        "colab": {
          "base_uri": "https://localhost:8080/"
        },
        "outputId": "404c46ef-23e1-49cf-b261-9ed705234837"
      },
      "source": [
        "print('Median = ',y)"
      ],
      "execution_count": 48,
      "outputs": [
        {
          "output_type": "stream",
          "text": [
            "Median =  44.0\n"
          ],
          "name": "stdout"
        }
      ]
    },
    {
      "cell_type": "code",
      "metadata": {
        "id": "aXDU-iKe7qqk",
        "colab": {
          "base_uri": "https://localhost:8080/"
        },
        "outputId": "46834ff9-fc14-4782-e198-953026aac891"
      },
      "source": [
        "print('Mode = ',z)"
      ],
      "execution_count": 49,
      "outputs": [
        {
          "output_type": "stream",
          "text": [
            "Mode =  ModeResult(mode=array([46]), count=array([2]))\n"
          ],
          "name": "stdout"
        }
      ]
    },
    {
      "cell_type": "markdown",
      "metadata": {
        "id": "5PloinNJ6-r2"
      },
      "source": [
        "**Q2. Write a python code for calculating variance and standard deviation for the  set of elements.**"
      ]
    },
    {
      "cell_type": "code",
      "metadata": {
        "id": "n1D4qZ906CWY"
      },
      "source": [
        "s = numpy.std(age)"
      ],
      "execution_count": 50,
      "outputs": []
    },
    {
      "cell_type": "code",
      "metadata": {
        "id": "O7_mIWgc6F8D"
      },
      "source": [
        "v = numpy.var(age)"
      ],
      "execution_count": 51,
      "outputs": []
    },
    {
      "cell_type": "code",
      "metadata": {
        "id": "Z-BIWFQL6V0h",
        "colab": {
          "base_uri": "https://localhost:8080/"
        },
        "outputId": "ae647c2a-7dec-4d8a-f7ab-95fd422fc652"
      },
      "source": [
        "print('Standard Deviation = ',s)"
      ],
      "execution_count": 52,
      "outputs": [
        {
          "output_type": "stream",
          "text": [
            "Standard Deviation =  19.132982149083812\n"
          ],
          "name": "stdout"
        }
      ]
    },
    {
      "cell_type": "code",
      "metadata": {
        "id": "74rkqJ4p6as_",
        "colab": {
          "base_uri": "https://localhost:8080/"
        },
        "outputId": "26a22701-26b1-4247-baa2-9460c1993e08"
      },
      "source": [
        "print('Variacnce = ',v)"
      ],
      "execution_count": 53,
      "outputs": [
        {
          "output_type": "stream",
          "text": [
            "Variacnce =  366.07100591715977\n"
          ],
          "name": "stdout"
        }
      ]
    },
    {
      "cell_type": "markdown",
      "metadata": {
        "id": "mm7vPkAT77B0"
      },
      "source": [
        "**Practice some basic python programs**"
      ]
    },
    {
      "cell_type": "code",
      "metadata": {
        "id": "LXbaZZte8CpN",
        "colab": {
          "base_uri": "https://localhost:8080/"
        },
        "outputId": "c247d806-4e30-4c11-d2fa-ddc3f823ce18"
      },
      "source": [
        "# This program prints Hello, world!\n",
        "\n",
        "print('Hello, world!')"
      ],
      "execution_count": 54,
      "outputs": [
        {
          "output_type": "stream",
          "text": [
            "Hello, world!\n"
          ],
          "name": "stdout"
        }
      ]
    },
    {
      "cell_type": "code",
      "metadata": {
        "id": "a2SXyU608YWS",
        "colab": {
          "base_uri": "https://localhost:8080/"
        },
        "outputId": "a534a751-fe16-4a57-9c1d-2c0c09206d52"
      },
      "source": [
        "# This program adds two numbers\n",
        "\n",
        "num1 = 1.5\n",
        "num2 = 6.3\n",
        "\n",
        "# Add two numbers\n",
        "sum = num1 + num2\n",
        "\n",
        "# Display the sum\n",
        "print('The sum of {0} and {1} is {2}'.format(num1, num2, sum))"
      ],
      "execution_count": 55,
      "outputs": [
        {
          "output_type": "stream",
          "text": [
            "The sum of 1.5 and 6.3 is 7.8\n"
          ],
          "name": "stdout"
        }
      ]
    },
    {
      "cell_type": "code",
      "metadata": {
        "id": "mVDfAFG-8dPP",
        "colab": {
          "base_uri": "https://localhost:8080/"
        },
        "outputId": "4dd7631f-a458-49b0-f4a2-5cee776dfb3b"
      },
      "source": [
        "# Python Program to calculate the square root\n",
        "\n",
        "num = 8 \n",
        "\n",
        "num_sqrt = num ** 0.5\n",
        "print('The square root of %0.3f is %0.3f'%(num ,num_sqrt))"
      ],
      "execution_count": 56,
      "outputs": [
        {
          "output_type": "stream",
          "text": [
            "The square root of 8.000 is 2.828\n"
          ],
          "name": "stdout"
        }
      ]
    },
    {
      "cell_type": "code",
      "metadata": {
        "id": "vFr9zZy88oTN",
        "colab": {
          "base_uri": "https://localhost:8080/"
        },
        "outputId": "607385a8-38a0-487d-d2bf-ff63765077d1"
      },
      "source": [
        "# Solve the quadratic equation ax**2 + bx + c = 0\n",
        "\n",
        "# import complex math module\n",
        "import cmath\n",
        "\n",
        "a = 1\n",
        "b = 5\n",
        "c = 6\n",
        "\n",
        "# calculate the discriminant\n",
        "d = (b**2) - (4*a*c)\n",
        "\n",
        "# find two solutions\n",
        "sol1 = (-b-cmath.sqrt(d))/(2*a)\n",
        "sol2 = (-b+cmath.sqrt(d))/(2*a)\n",
        "\n",
        "print('The solution are {0} and {1}'.format(sol1,sol2))"
      ],
      "execution_count": 57,
      "outputs": [
        {
          "output_type": "stream",
          "text": [
            "The solution are (-3+0j) and (-2+0j)\n"
          ],
          "name": "stdout"
        }
      ]
    },
    {
      "cell_type": "code",
      "metadata": {
        "id": "UJm_a8g781cP",
        "colab": {
          "base_uri": "https://localhost:8080/"
        },
        "outputId": "a8fc2487-f8c9-42ee-f624-e4891e2438ce"
      },
      "source": [
        "# Python program to swap two variables\n",
        "\n",
        "x = 5\n",
        "y = 10\n",
        "\n",
        "# create a temporary variable and swap the values\n",
        "temp = x\n",
        "x = y\n",
        "y = temp\n",
        "\n",
        "print('The value of x after swapping: {}'.format(x))\n",
        "print('The value of y after swapping: {}'.format(y))"
      ],
      "execution_count": 58,
      "outputs": [
        {
          "output_type": "stream",
          "text": [
            "The value of x after swapping: 10\n",
            "The value of y after swapping: 5\n"
          ],
          "name": "stdout"
        }
      ]
    },
    {
      "cell_type": "code",
      "metadata": {
        "id": "FggZVKQc9ANq",
        "colab": {
          "base_uri": "https://localhost:8080/"
        },
        "outputId": "ae9f51fc-0440-4075-b472-d478e561aaec"
      },
      "source": [
        "# Program to generate a random number between 0 and 9.\n",
        "# importing the random module.\n",
        "\n",
        "import random\n",
        "\n",
        "print(random.randint(0,9))"
      ],
      "execution_count": 61,
      "outputs": [
        {
          "output_type": "stream",
          "text": [
            "0\n"
          ],
          "name": "stdout"
        }
      ]
    }
  ]
}