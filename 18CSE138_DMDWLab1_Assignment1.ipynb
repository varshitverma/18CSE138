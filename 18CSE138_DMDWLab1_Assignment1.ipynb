{
  "nbformat": 4,
  "nbformat_minor": 0,
  "metadata": {
    "colab": {
      "name": "18CSE138-DMDWLab1-Assignment1.ipynb",
      "provenance": [],
      "authorship_tag": "ABX9TyMYg5PmrN1b/71LtEFME0fl",
      "include_colab_link": true
    },
    "kernelspec": {
      "name": "python3",
      "display_name": "Python 3"
    }
  },
  "cells": [
    {
      "cell_type": "markdown",
      "metadata": {
        "id": "view-in-github",
        "colab_type": "text"
      },
      "source": [
        "<a href=\"https://colab.research.google.com/github/varshitverma/18CSE138/blob/main/18CSE138_DMDWLab1_Assignment1.ipynb\" target=\"_parent\"><img src=\"https://colab.research.google.com/assets/colab-badge.svg\" alt=\"Open In Colab\"/></a>"
      ]
    },
    {
      "cell_type": "code",
      "metadata": {
        "id": "_2mu85PQfkXx"
      },
      "source": [
        "import numpy \n",
        "import statistics as s\n",
        "num=[10,12,15,22,12,24,12,55]\n",
        "x=numpy.mean(num)\n",
        "y=numpy.median(num)\n",
        "z=s.mode(num)"
      ],
      "execution_count": 3,
      "outputs": []
    },
    {
      "cell_type": "code",
      "metadata": {
        "colab": {
          "base_uri": "https://localhost:8080/"
        },
        "id": "8iwsh-v0gQfm",
        "outputId": "14d23b73-e7d0-4025-b123-c106596dd5bb"
      },
      "source": [
        "print(\"Mean is :\",x)\n",
        "print(\"Median is :\",y)\n",
        "print(\"Mode is :\",x)"
      ],
      "execution_count": 4,
      "outputs": [
        {
          "output_type": "stream",
          "text": [
            "Mean is : 20.25\n",
            "Median is : 13.5\n",
            "Mode is : 20.25\n"
          ],
          "name": "stdout"
        }
      ]
    },
    {
      "cell_type": "code",
      "metadata": {
        "colab": {
          "base_uri": "https://localhost:8080/"
        },
        "id": "JBXFuzfegL2J",
        "outputId": "f1f8434f-5be3-4404-8ad4-3a2e00497f75"
      },
      "source": [
        "num=[10,12,15,22,12,24,12,55]\n",
        "x=numpy.std(num)\n",
        "y=numpy.var(num)"
      ],
      "execution_count": 5,
      "outputs": [
        {
          "output_type": "stream",
          "text": [
            "Standard Dev. is : 13.970952007647869\n",
            "Variance is : 195.1875\n"
          ],
          "name": "stdout"
        }
      ]
    },
    {
      "cell_type": "code",
      "metadata": {
        "colab": {
          "base_uri": "https://localhost:8080/"
        },
        "id": "8dlM8YrSgrsL",
        "outputId": "aa8b1c0b-a831-4ccd-e546-019642740514"
      },
      "source": [
        "print(\"Standard Dev. is :\",x)\n",
        "print(\"Variance is :\",y)"
      ],
      "execution_count": 6,
      "outputs": [
        {
          "output_type": "stream",
          "text": [
            "Standard Dev. is : 13.970952007647869\n",
            "Variance is : 195.1875\n"
          ],
          "name": "stdout"
        }
      ]
    },
    {
      "cell_type": "code",
      "metadata": {
        "id": "tPJqWmiVgt35"
      },
      "source": [
        ""
      ],
      "execution_count": null,
      "outputs": []
    }
  ]
}